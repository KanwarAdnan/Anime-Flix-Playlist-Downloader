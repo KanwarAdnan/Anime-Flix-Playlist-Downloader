{
 "cells": [
  {
   "cell_type": "code",
   "execution_count": 1,
   "id": "548af259",
   "metadata": {},
   "outputs": [],
   "source": [
    "import bs4\n",
    "from selenium import webdriver\n",
    "from selenium.webdriver.chrome.options import Options\n",
    "from selenium.webdriver.chrome.service import Service\n",
    "from selenium.webdriver.common.by import By\n",
    "from selenium.webdriver.support.ui import WebDriverWait\n",
    "from selenium.webdriver.support import expected_conditions as EC\n",
    "from selenium.common.exceptions import TimeoutException"
   ]
  },
  {
   "cell_type": "code",
   "execution_count": 2,
   "id": "d54d86f6",
   "metadata": {},
   "outputs": [],
   "source": [
    "DRIVER_PATH = \"C:\\Chromedriver\\chromedriver.exe\""
   ]
  },
  {
   "cell_type": "code",
   "execution_count": 3,
   "id": "cd965007",
   "metadata": {},
   "outputs": [],
   "source": [
    "options = Options()\n",
    "options.headless = False"
   ]
  },
  {
   "cell_type": "code",
   "execution_count": 4,
   "id": "ffc9e1ac",
   "metadata": {},
   "outputs": [],
   "source": [
    "driver = webdriver.Chrome(service=Service(DRIVER_PATH),options=options)"
   ]
  },
  {
   "cell_type": "code",
   "execution_count": 5,
   "id": "78b77e5c",
   "metadata": {},
   "outputs": [],
   "source": [
    "narutoShippuden = {\n",
    "    \"S1\" : \"https://episodes.animeflix.org.in/archives/6427\",\n",
    "    \"S2\" : \"https://episodes.animeflix.org.in/archives/6428\",\n",
    "    \"S3\" : \"https://episodes.animeflix.org.in/archives/6429\",\n",
    "    \"S4\" : \"https://episodes.animeflix.org.in/archives/6430\",\n",
    "    \"S5\" : \"https://episodes.animeflix.org.in/archives/6431\",\n",
    "    \"S6\" : \"https://episodes.animeflix.org.in/archives/6432\",\n",
    "    \"S7\" : \"https://episodes.animeflix.org.in/archives/6433\",\n",
    "    \"S8\" : \"https://episodes.animeflix.org.in/archives/6434\",\n",
    "    \"S9\" : \"https://episodes.animeflix.org.in/archives/6435\",\n",
    "    \"S10\" : \"https://episodes.animeflix.org.in/archives/6448\",\n",
    "    \"S11\" : \"https://episodes.animeflix.org.in/archives/6449\",\n",
    "    \"S12\" : \"https://episodes.animeflix.org.in/archives/6445\",\n",
    "    \"S13\" : \"https://episodes.animeflix.org.in/archives/6446\",\n",
    "    \"S14\" : \"https://episodes.animeflix.org.in/archives/6447\",\n",
    "    \"S15\" : \"https://episodes.animeflix.org.in/archives/6454\",\n",
    "    \"S16\" : \"https://episodes.animeflix.org.in/archives/6455\",\n",
    "    \"S17\" : \"https://episodes.animeflix.org.in/archives/6456\",\n",
    "    \"S18\" : \"https://episodes.animeflix.org.in/archives/6457\",\n",
    "    \"S19\" : \"https://episodes.animeflix.org.in/archives/6458\",\n",
    "    \"S20.1\" : \"https://episodes.animeflix.org.in/archives/6459\",\n",
    "    \"S20.2\" : \"https://episodes.animeflix.org.in/archives/6460\",\n",
    "    \"S21\" : \"https://episodes.animeflix.org.in/archives/6668\"\n",
    "    }"
   ]
  },
  {
   "cell_type": "code",
   "execution_count": 6,
   "id": "781c5b1e",
   "metadata": {},
   "outputs": [],
   "source": [
    "Season = \"S1\"\n",
    "driver.get(narutoShippuden[Season])"
   ]
  },
  {
   "cell_type": "code",
   "execution_count": 7,
   "id": "66747fd9",
   "metadata": {},
   "outputs": [],
   "source": [
    "def getLinks():\n",
    "    html = driver.page_source\n",
    "    soup = bs4.BeautifulSoup(html,'html.parser')\n",
    "    links = soup.findAll('div',class_='entry-content')\n",
    "    episodes = (links[0].findAll('a'))\n",
    "    links = []\n",
    "    for episode in episodes:\n",
    "        link = (str(episode).split('href=')[1].split(' rel')[0]).split('\"')[1]\n",
    "        links.append(link)\n",
    "    return links"
   ]
  },
  {
   "cell_type": "code",
   "execution_count": 8,
   "id": "d3196b38",
   "metadata": {},
   "outputs": [],
   "source": [
    "def getDownloadLinks(links : list):\n",
    "    print(f\"Going to fetch {len(links)} links\")\n",
    "    gDriveLinks = {}\n",
    "    delay = 60 # can wait for max 1 minute to load the website.\n",
    "\n",
    "    def writeLink(name):\n",
    "        \"\"\"This will save all the fetched links\"\"\"\n",
    "        with open(f\"links Season {Season}.txt\",'a') as f:\n",
    "            f.write(f\"{name} : {gDriveLinks[name]}\")\n",
    "            f.write(\"\\n\")\n",
    "\n",
    "    def extractLink():\n",
    "        \"\"\"This method extracts the link\"\"\"\n",
    "        newHtml = driver.page_source\n",
    "        newSoup = bs4.BeautifulSoup(newHtml,'html.parser')\n",
    "\n",
    "        # Getting the download button\n",
    "        newLink = newSoup.findAll('a',class_=\"btn-primary\")\n",
    "\n",
    "        # Getting the name of the file\n",
    "        name = newSoup.find('title').text.split('.mkv')[0]\n",
    "\n",
    "        # Getting it's size\n",
    "        size = newLink[0].text.split(' [')[1].split(' ]')[0]\n",
    "\n",
    "        # Getting it's link\n",
    "        gDriveLink = (newLink[0].get('href'))\n",
    "\n",
    "        # Adding it to our recors\n",
    "        gDriveLinks[name] = [gDriveLink,size]\n",
    "\n",
    "        return name\n",
    "\n",
    "    for index,link in enumerate(links):\n",
    "        # Going to the link\n",
    "        driver.get(link)\n",
    "\n",
    "        # waiting for the page to load\n",
    "        try:\n",
    "            myElem = WebDriverWait(driver, delay).until(EC.element_to_be_clickable((By.ID, 'drc')))\n",
    "        except TimeoutException:\n",
    "            print(\"Loading took too much time!\")\n",
    "        else:\n",
    "            # going to the next download page\n",
    "            driver.find_element(By.ID , 'drc').click()\n",
    "\n",
    "            # waiting for the page to load\n",
    "            try:\n",
    "                myElem = WebDriverWait(driver, delay).until(EC.element_to_be_clickable((By.ID, 'wb')))\n",
    "            except TimeoutException:\n",
    "                print(\"Loading took too much time!\")\n",
    "            else:\n",
    "                # Finally extracting the link\n",
    "                name = extractLink()\n",
    "                \n",
    "                # Writing it to the file\n",
    "                writeLink(name)\n",
    "                \n",
    "                # Displaying the data\n",
    "                print(gDriveLinks.get(name))\n",
    "\n",
    "\n",
    "    return gDriveLinks"
   ]
  },
  {
   "cell_type": "code",
   "execution_count": 9,
   "id": "6c0c2881",
   "metadata": {},
   "outputs": [],
   "source": [
    "links = getLinks()"
   ]
  },
  {
   "cell_type": "code",
   "execution_count": 78,
   "id": "625993c9",
   "metadata": {},
   "outputs": [
    {
     "name": "stdout",
     "output_type": "stream",
     "text": [
      "Going to fetch 32 links\n",
      "['https://drive.google.com/uc?id=15FjB_eXuxAAsEW7MchFb-Wz-yLzNABVm', ' 128.87MB']\n",
      "['https://drive.google.com/uc?id=1MEIYgS7LYLgRGowmstPXcN1NtYlAGJOX', ' 118.75MB']\n",
      "['https://drive.google.com/uc?id=1hulMFCz2k6qgQfvaXeBm8C6o02Nr1PNF', ' 146.54MB']\n"
     ]
    },
    {
     "name": "stderr",
     "output_type": "stream",
     "text": [
      "\n",
      "KeyboardInterrupt\n",
      "\n"
     ]
    }
   ],
   "source": [
    "fetched = getDownloadLinks(links)"
   ]
  }
 ],
 "metadata": {
  "kernelspec": {
   "display_name": "Python 3 (ipykernel)",
   "language": "python",
   "name": "python3"
  },
  "language_info": {
   "codemirror_mode": {
    "name": "ipython",
    "version": 3
   },
   "file_extension": ".py",
   "mimetype": "text/x-python",
   "name": "python",
   "nbconvert_exporter": "python",
   "pygments_lexer": "ipython3",
   "version": "3.10.4"
  }
 },
 "nbformat": 4,
 "nbformat_minor": 5
}
